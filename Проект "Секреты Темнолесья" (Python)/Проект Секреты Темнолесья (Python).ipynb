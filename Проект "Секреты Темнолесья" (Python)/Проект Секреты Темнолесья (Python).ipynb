{
 "cells": [
  {
   "cell_type": "markdown",
   "id": "e06910dd",
   "metadata": {
    "id": "e06910dd"
   },
   "source": [
    "# Проект \"Секреты Темнолесья\". Предобработка, фильтрация и категоризация данных. \n",
    "\n",
    "- Автор: Алексей Кознов\n",
    "- Дата: 24.02.25"
   ]
  },
  {
   "cell_type": "markdown",
   "id": "4149134c",
   "metadata": {
    "id": "4149134c"
   },
   "source": [
    "### Цели и задачи проекта\n",
    "\n",
    "Команда игры «Секреты Темнолесья» хотят привлечь новую аудиторию и подготовить статью о развитии индустрии игр в начале XXI века. Для статьи понадобится изучить развитие игровой индустрии с 2000 по 2013 год. Команда «Секреты Темнолесья» подготовила различные исторические данные связанные с игровой индустрией, которые были собраны из открытых источников.\n",
    "\n",
    "Моя задача — познакомиться с данными, проверить их корректность и провести предобработку, получив необходимый срез данных. На этот срез данных будет опираться будущая статья. "
   ]
  },
  {
   "cell_type": "markdown",
   "id": "728986ea",
   "metadata": {
    "id": "728986ea"
   },
   "source": [
    "### Описание данных\n",
    "\n",
    "Данные `/datasets/new_games.csv` содержат информацию о продажах игр разных жанров и платформ, а также пользовательские и экспертные оценки игр:\n",
    "\n",
    "  - `Name` — название игры.\n",
    "  - `Platform` — название платформы.\n",
    "  - `Year of Release` — год выпуска игры.\n",
    "  - `Genre` — жанр игры.\n",
    "  - `NA sales` — продажи в Северной Америке (в миллионах проданных копий).\n",
    "  - `EU sales` — продажи в Европе (в миллионах проданных копий).\n",
    "  - `JP sales` — продажи в Японии (в миллионах проданных копий).\n",
    "  - `Other sales` — продажи в других странах (в миллионах проданных копий).\n",
    "  - `Critic Score` — оценка критиков (от 0 до 100).\n",
    "  - `User Score` — оценка пользователей (от 0 до 10).\n",
    "  - `Rating` — рейтинг организации ESRB (англ. Entertainment Software Rating Board). Эта ассоциация определяет рейтинг компьютерных игр и присваивает им подходящую возрастную категорию."
   ]
  },
  {
   "cell_type": "markdown",
   "id": "4fecaf95",
   "metadata": {
    "id": "4fecaf95"
   },
   "source": [
    "### Содержимое проекта\n",
    "\n",
    "---\n",
    "\n",
    "1. Загрузка и знакомство с данными\n",
    "2. Проверка ошибок в данных и их предобработка\n",
    "3. Фильтрация данных\n",
    "4. Категоризация данных"
   ]
  },
  {
   "cell_type": "markdown",
   "id": "6f7d21d6",
   "metadata": {
    "id": "6f7d21d6"
   },
   "source": [
    "## 1. Загрузка данных и знакомство с ними"
   ]
  },
  {
   "cell_type": "code",
   "execution_count": 6,
   "id": "ebb66dc5",
   "metadata": {
    "id": "ebb66dc5"
   },
   "outputs": [],
   "source": [
    "## Импортируем библиотеку pandas\n",
    "import pandas as pd"
   ]
  },
  {
   "cell_type": "code",
   "execution_count": 7,
   "id": "ce87c1db",
   "metadata": {
    "id": "ce87c1db"
   },
   "outputs": [],
   "source": [
    "# Выгружаем данные из датасета new_games.csv в датафрейм games\n",
    "games = pd.read_csv('https://code.s3.yandex.net/datasets/new_games.csv')"
   ]
  },
  {
   "cell_type": "code",
   "execution_count": 8,
   "id": "3937acf7",
   "metadata": {
    "id": "3937acf7"
   },
   "outputs": [
    {
     "name": "stdout",
     "output_type": "stream",
     "text": [
      "<class 'pandas.core.frame.DataFrame'>\n",
      "RangeIndex: 16956 entries, 0 to 16955\n",
      "Data columns (total 11 columns):\n",
      " #   Column           Non-Null Count  Dtype  \n",
      "---  ------           --------------  -----  \n",
      " 0   Name             16954 non-null  object \n",
      " 1   Platform         16956 non-null  object \n",
      " 2   Year of Release  16681 non-null  float64\n",
      " 3   Genre            16954 non-null  object \n",
      " 4   NA sales         16956 non-null  float64\n",
      " 5   EU sales         16956 non-null  object \n",
      " 6   JP sales         16956 non-null  object \n",
      " 7   Other sales      16956 non-null  float64\n",
      " 8   Critic Score     8242 non-null   float64\n",
      " 9   User Score       10152 non-null  object \n",
      " 10  Rating           10085 non-null  object \n",
      "dtypes: float64(4), object(7)\n",
      "memory usage: 1.4+ MB\n"
     ]
    }
   ],
   "source": [
    "# Выводим информацию о датафрейме\n",
    "games.info()"
   ]
  },
  {
   "cell_type": "code",
   "execution_count": 9,
   "id": "d7c8eb4b",
   "metadata": {
    "id": "d7c8eb4b",
    "scrolled": true
   },
   "outputs": [
    {
     "data": {
      "text/html": [
       "<div>\n",
       "<style scoped>\n",
       "    .dataframe tbody tr th:only-of-type {\n",
       "        vertical-align: middle;\n",
       "    }\n",
       "\n",
       "    .dataframe tbody tr th {\n",
       "        vertical-align: top;\n",
       "    }\n",
       "\n",
       "    .dataframe thead th {\n",
       "        text-align: right;\n",
       "    }\n",
       "</style>\n",
       "<table border=\"1\" class=\"dataframe\">\n",
       "  <thead>\n",
       "    <tr style=\"text-align: right;\">\n",
       "      <th></th>\n",
       "      <th>Name</th>\n",
       "      <th>Platform</th>\n",
       "      <th>Year of Release</th>\n",
       "      <th>Genre</th>\n",
       "      <th>NA sales</th>\n",
       "      <th>EU sales</th>\n",
       "      <th>JP sales</th>\n",
       "      <th>Other sales</th>\n",
       "      <th>Critic Score</th>\n",
       "      <th>User Score</th>\n",
       "      <th>Rating</th>\n",
       "    </tr>\n",
       "  </thead>\n",
       "  <tbody>\n",
       "    <tr>\n",
       "      <th>0</th>\n",
       "      <td>Wii Sports</td>\n",
       "      <td>Wii</td>\n",
       "      <td>2006.0</td>\n",
       "      <td>Sports</td>\n",
       "      <td>41.36</td>\n",
       "      <td>28.96</td>\n",
       "      <td>3.77</td>\n",
       "      <td>8.45</td>\n",
       "      <td>76.0</td>\n",
       "      <td>8</td>\n",
       "      <td>E</td>\n",
       "    </tr>\n",
       "    <tr>\n",
       "      <th>1</th>\n",
       "      <td>Super Mario Bros.</td>\n",
       "      <td>NES</td>\n",
       "      <td>1985.0</td>\n",
       "      <td>Platform</td>\n",
       "      <td>29.08</td>\n",
       "      <td>3.58</td>\n",
       "      <td>6.81</td>\n",
       "      <td>0.77</td>\n",
       "      <td>NaN</td>\n",
       "      <td>NaN</td>\n",
       "      <td>NaN</td>\n",
       "    </tr>\n",
       "    <tr>\n",
       "      <th>2</th>\n",
       "      <td>Mario Kart Wii</td>\n",
       "      <td>Wii</td>\n",
       "      <td>2008.0</td>\n",
       "      <td>Racing</td>\n",
       "      <td>15.68</td>\n",
       "      <td>12.76</td>\n",
       "      <td>3.79</td>\n",
       "      <td>3.29</td>\n",
       "      <td>82.0</td>\n",
       "      <td>8.3</td>\n",
       "      <td>E</td>\n",
       "    </tr>\n",
       "    <tr>\n",
       "      <th>3</th>\n",
       "      <td>Wii Sports Resort</td>\n",
       "      <td>Wii</td>\n",
       "      <td>2009.0</td>\n",
       "      <td>Sports</td>\n",
       "      <td>15.61</td>\n",
       "      <td>10.93</td>\n",
       "      <td>3.28</td>\n",
       "      <td>2.95</td>\n",
       "      <td>80.0</td>\n",
       "      <td>8</td>\n",
       "      <td>E</td>\n",
       "    </tr>\n",
       "    <tr>\n",
       "      <th>4</th>\n",
       "      <td>Pokemon Red/Pokemon Blue</td>\n",
       "      <td>GB</td>\n",
       "      <td>1996.0</td>\n",
       "      <td>Role-Playing</td>\n",
       "      <td>11.27</td>\n",
       "      <td>8.89</td>\n",
       "      <td>10.22</td>\n",
       "      <td>1.00</td>\n",
       "      <td>NaN</td>\n",
       "      <td>NaN</td>\n",
       "      <td>NaN</td>\n",
       "    </tr>\n",
       "    <tr>\n",
       "      <th>5</th>\n",
       "      <td>Tetris</td>\n",
       "      <td>GB</td>\n",
       "      <td>1989.0</td>\n",
       "      <td>Puzzle</td>\n",
       "      <td>23.20</td>\n",
       "      <td>2.26</td>\n",
       "      <td>4.22</td>\n",
       "      <td>0.58</td>\n",
       "      <td>NaN</td>\n",
       "      <td>NaN</td>\n",
       "      <td>NaN</td>\n",
       "    </tr>\n",
       "    <tr>\n",
       "      <th>6</th>\n",
       "      <td>New Super Mario Bros.</td>\n",
       "      <td>DS</td>\n",
       "      <td>2006.0</td>\n",
       "      <td>Platform</td>\n",
       "      <td>11.28</td>\n",
       "      <td>9.14</td>\n",
       "      <td>6.5</td>\n",
       "      <td>2.88</td>\n",
       "      <td>89.0</td>\n",
       "      <td>8.5</td>\n",
       "      <td>E</td>\n",
       "    </tr>\n",
       "    <tr>\n",
       "      <th>7</th>\n",
       "      <td>Wii Play</td>\n",
       "      <td>Wii</td>\n",
       "      <td>2006.0</td>\n",
       "      <td>Misc</td>\n",
       "      <td>13.96</td>\n",
       "      <td>9.18</td>\n",
       "      <td>2.93</td>\n",
       "      <td>2.84</td>\n",
       "      <td>58.0</td>\n",
       "      <td>6.6</td>\n",
       "      <td>E</td>\n",
       "    </tr>\n",
       "    <tr>\n",
       "      <th>8</th>\n",
       "      <td>New Super Mario Bros. Wii</td>\n",
       "      <td>Wii</td>\n",
       "      <td>2009.0</td>\n",
       "      <td>Platform</td>\n",
       "      <td>14.44</td>\n",
       "      <td>6.94</td>\n",
       "      <td>4.7</td>\n",
       "      <td>2.24</td>\n",
       "      <td>87.0</td>\n",
       "      <td>8.4</td>\n",
       "      <td>E</td>\n",
       "    </tr>\n",
       "    <tr>\n",
       "      <th>9</th>\n",
       "      <td>Duck Hunt</td>\n",
       "      <td>NES</td>\n",
       "      <td>1984.0</td>\n",
       "      <td>Shooter</td>\n",
       "      <td>26.93</td>\n",
       "      <td>0.63</td>\n",
       "      <td>0.28</td>\n",
       "      <td>0.47</td>\n",
       "      <td>NaN</td>\n",
       "      <td>NaN</td>\n",
       "      <td>NaN</td>\n",
       "    </tr>\n",
       "  </tbody>\n",
       "</table>\n",
       "</div>"
      ],
      "text/plain": [
       "                        Name Platform  Year of Release         Genre  \\\n",
       "0                 Wii Sports      Wii           2006.0        Sports   \n",
       "1          Super Mario Bros.      NES           1985.0      Platform   \n",
       "2             Mario Kart Wii      Wii           2008.0        Racing   \n",
       "3          Wii Sports Resort      Wii           2009.0        Sports   \n",
       "4   Pokemon Red/Pokemon Blue       GB           1996.0  Role-Playing   \n",
       "5                     Tetris       GB           1989.0        Puzzle   \n",
       "6      New Super Mario Bros.       DS           2006.0      Platform   \n",
       "7                   Wii Play      Wii           2006.0          Misc   \n",
       "8  New Super Mario Bros. Wii      Wii           2009.0      Platform   \n",
       "9                  Duck Hunt      NES           1984.0       Shooter   \n",
       "\n",
       "   NA sales EU sales JP sales  Other sales  Critic Score User Score Rating  \n",
       "0     41.36    28.96     3.77         8.45          76.0          8      E  \n",
       "1     29.08     3.58     6.81         0.77           NaN        NaN    NaN  \n",
       "2     15.68    12.76     3.79         3.29          82.0        8.3      E  \n",
       "3     15.61    10.93     3.28         2.95          80.0          8      E  \n",
       "4     11.27     8.89    10.22         1.00           NaN        NaN    NaN  \n",
       "5     23.20     2.26     4.22         0.58           NaN        NaN    NaN  \n",
       "6     11.28     9.14      6.5         2.88          89.0        8.5      E  \n",
       "7     13.96     9.18     2.93         2.84          58.0        6.6      E  \n",
       "8     14.44     6.94      4.7         2.24          87.0        8.4      E  \n",
       "9     26.93     0.63     0.28         0.47           NaN        NaN    NaN  "
      ]
     },
     "execution_count": 9,
     "metadata": {},
     "output_type": "execute_result"
    }
   ],
   "source": [
    "# Выводим первые строки датафрейма на экран\n",
    "games.head(10)"
   ]
  },
  {
   "cell_type": "code",
   "execution_count": 10,
   "id": "823679ea-73a3-4000-995d-0c366cd747fc",
   "metadata": {},
   "outputs": [
    {
     "data": {
      "text/html": [
       "<div>\n",
       "<style scoped>\n",
       "    .dataframe tbody tr th:only-of-type {\n",
       "        vertical-align: middle;\n",
       "    }\n",
       "\n",
       "    .dataframe tbody tr th {\n",
       "        vertical-align: top;\n",
       "    }\n",
       "\n",
       "    .dataframe thead th {\n",
       "        text-align: right;\n",
       "    }\n",
       "</style>\n",
       "<table border=\"1\" class=\"dataframe\">\n",
       "  <thead>\n",
       "    <tr style=\"text-align: right;\">\n",
       "      <th></th>\n",
       "      <th>Name</th>\n",
       "      <th>Platform</th>\n",
       "      <th>Year of Release</th>\n",
       "      <th>Genre</th>\n",
       "      <th>NA sales</th>\n",
       "      <th>EU sales</th>\n",
       "      <th>JP sales</th>\n",
       "      <th>Other sales</th>\n",
       "      <th>Critic Score</th>\n",
       "      <th>User Score</th>\n",
       "      <th>Rating</th>\n",
       "    </tr>\n",
       "  </thead>\n",
       "  <tbody>\n",
       "    <tr>\n",
       "      <th>16946</th>\n",
       "      <td>15 Days</td>\n",
       "      <td>PC</td>\n",
       "      <td>2009.0</td>\n",
       "      <td>Adventure</td>\n",
       "      <td>0.00</td>\n",
       "      <td>0.01</td>\n",
       "      <td>0.0</td>\n",
       "      <td>0.0</td>\n",
       "      <td>63.0</td>\n",
       "      <td>5.8</td>\n",
       "      <td>NaN</td>\n",
       "    </tr>\n",
       "    <tr>\n",
       "      <th>16947</th>\n",
       "      <td>Men in Black II: Alien Escape</td>\n",
       "      <td>GC</td>\n",
       "      <td>2003.0</td>\n",
       "      <td>Shooter</td>\n",
       "      <td>0.01</td>\n",
       "      <td>0.0</td>\n",
       "      <td>0.0</td>\n",
       "      <td>0.0</td>\n",
       "      <td>NaN</td>\n",
       "      <td>tbd</td>\n",
       "      <td>T</td>\n",
       "    </tr>\n",
       "    <tr>\n",
       "      <th>16948</th>\n",
       "      <td>Aiyoku no Eustia</td>\n",
       "      <td>PSV</td>\n",
       "      <td>2014.0</td>\n",
       "      <td>Misc</td>\n",
       "      <td>0.00</td>\n",
       "      <td>0.0</td>\n",
       "      <td>0.01</td>\n",
       "      <td>0.0</td>\n",
       "      <td>NaN</td>\n",
       "      <td>NaN</td>\n",
       "      <td>NaN</td>\n",
       "    </tr>\n",
       "    <tr>\n",
       "      <th>16949</th>\n",
       "      <td>Woody Woodpecker in Crazy Castle 5</td>\n",
       "      <td>GBA</td>\n",
       "      <td>2002.0</td>\n",
       "      <td>Platform</td>\n",
       "      <td>0.01</td>\n",
       "      <td>0.0</td>\n",
       "      <td>0.0</td>\n",
       "      <td>0.0</td>\n",
       "      <td>NaN</td>\n",
       "      <td>NaN</td>\n",
       "      <td>NaN</td>\n",
       "    </tr>\n",
       "    <tr>\n",
       "      <th>16950</th>\n",
       "      <td>SCORE International Baja 1000: The Official Game</td>\n",
       "      <td>PS2</td>\n",
       "      <td>2008.0</td>\n",
       "      <td>Racing</td>\n",
       "      <td>0.00</td>\n",
       "      <td>0.0</td>\n",
       "      <td>0.0</td>\n",
       "      <td>0.0</td>\n",
       "      <td>NaN</td>\n",
       "      <td>NaN</td>\n",
       "      <td>NaN</td>\n",
       "    </tr>\n",
       "    <tr>\n",
       "      <th>16951</th>\n",
       "      <td>Samurai Warriors: Sanada Maru</td>\n",
       "      <td>PS3</td>\n",
       "      <td>2016.0</td>\n",
       "      <td>Action</td>\n",
       "      <td>0.00</td>\n",
       "      <td>0.0</td>\n",
       "      <td>0.01</td>\n",
       "      <td>0.0</td>\n",
       "      <td>NaN</td>\n",
       "      <td>NaN</td>\n",
       "      <td>NaN</td>\n",
       "    </tr>\n",
       "    <tr>\n",
       "      <th>16952</th>\n",
       "      <td>LMA Manager 2007</td>\n",
       "      <td>X360</td>\n",
       "      <td>2006.0</td>\n",
       "      <td>Sports</td>\n",
       "      <td>0.00</td>\n",
       "      <td>0.01</td>\n",
       "      <td>0.0</td>\n",
       "      <td>0.0</td>\n",
       "      <td>NaN</td>\n",
       "      <td>NaN</td>\n",
       "      <td>NaN</td>\n",
       "    </tr>\n",
       "    <tr>\n",
       "      <th>16953</th>\n",
       "      <td>Haitaka no Psychedelica</td>\n",
       "      <td>PSV</td>\n",
       "      <td>2016.0</td>\n",
       "      <td>Adventure</td>\n",
       "      <td>0.00</td>\n",
       "      <td>0.0</td>\n",
       "      <td>0.01</td>\n",
       "      <td>0.0</td>\n",
       "      <td>NaN</td>\n",
       "      <td>NaN</td>\n",
       "      <td>NaN</td>\n",
       "    </tr>\n",
       "    <tr>\n",
       "      <th>16954</th>\n",
       "      <td>Spirits &amp; Spells</td>\n",
       "      <td>GBA</td>\n",
       "      <td>2003.0</td>\n",
       "      <td>Platform</td>\n",
       "      <td>0.01</td>\n",
       "      <td>0.0</td>\n",
       "      <td>0.0</td>\n",
       "      <td>0.0</td>\n",
       "      <td>NaN</td>\n",
       "      <td>NaN</td>\n",
       "      <td>NaN</td>\n",
       "    </tr>\n",
       "    <tr>\n",
       "      <th>16955</th>\n",
       "      <td>Winning Post 8 2016</td>\n",
       "      <td>PSV</td>\n",
       "      <td>2016.0</td>\n",
       "      <td>Simulation</td>\n",
       "      <td>0.00</td>\n",
       "      <td>0.0</td>\n",
       "      <td>0.01</td>\n",
       "      <td>0.0</td>\n",
       "      <td>NaN</td>\n",
       "      <td>NaN</td>\n",
       "      <td>NaN</td>\n",
       "    </tr>\n",
       "  </tbody>\n",
       "</table>\n",
       "</div>"
      ],
      "text/plain": [
       "                                                   Name Platform  \\\n",
       "16946                                           15 Days       PC   \n",
       "16947                     Men in Black II: Alien Escape       GC   \n",
       "16948                                  Aiyoku no Eustia      PSV   \n",
       "16949                Woody Woodpecker in Crazy Castle 5      GBA   \n",
       "16950  SCORE International Baja 1000: The Official Game      PS2   \n",
       "16951                     Samurai Warriors: Sanada Maru      PS3   \n",
       "16952                                  LMA Manager 2007     X360   \n",
       "16953                           Haitaka no Psychedelica      PSV   \n",
       "16954                                  Spirits & Spells      GBA   \n",
       "16955                               Winning Post 8 2016      PSV   \n",
       "\n",
       "       Year of Release       Genre  NA sales EU sales JP sales  Other sales  \\\n",
       "16946           2009.0   Adventure      0.00     0.01      0.0          0.0   \n",
       "16947           2003.0     Shooter      0.01      0.0      0.0          0.0   \n",
       "16948           2014.0        Misc      0.00      0.0     0.01          0.0   \n",
       "16949           2002.0    Platform      0.01      0.0      0.0          0.0   \n",
       "16950           2008.0      Racing      0.00      0.0      0.0          0.0   \n",
       "16951           2016.0      Action      0.00      0.0     0.01          0.0   \n",
       "16952           2006.0      Sports      0.00     0.01      0.0          0.0   \n",
       "16953           2016.0   Adventure      0.00      0.0     0.01          0.0   \n",
       "16954           2003.0    Platform      0.01      0.0      0.0          0.0   \n",
       "16955           2016.0  Simulation      0.00      0.0     0.01          0.0   \n",
       "\n",
       "       Critic Score User Score Rating  \n",
       "16946          63.0        5.8    NaN  \n",
       "16947           NaN        tbd      T  \n",
       "16948           NaN        NaN    NaN  \n",
       "16949           NaN        NaN    NaN  \n",
       "16950           NaN        NaN    NaN  \n",
       "16951           NaN        NaN    NaN  \n",
       "16952           NaN        NaN    NaN  \n",
       "16953           NaN        NaN    NaN  \n",
       "16954           NaN        NaN    NaN  \n",
       "16955           NaN        NaN    NaN  "
      ]
     },
     "execution_count": 10,
     "metadata": {},
     "output_type": "execute_result"
    }
   ],
   "source": [
    "# Выводим последние строки датафрейма на экран\n",
    "games.tail(10)"
   ]
  },
  {
   "cell_type": "markdown",
   "id": "1d2df8fa-2787-4a96-8577-69a477a84851",
   "metadata": {
    "id": "81651b8d"
   },
   "source": [
    "Датасет `new_games.csv` содержит 11 столбцов и 16956 строк. В датасете представлена информация о продажах игр, жанрах, платформах выпуска, рейтинге, а также оценках пользователей и критиков."
   ]
  },
  {
   "cell_type": "markdown",
   "id": "11316b7e-f6ac-4c36-a065-51f485c5799c",
   "metadata": {
    "id": "191981db"
   },
   "source": [
    "Изучим данные и их корректность: \n",
    "\n",
    "- **Числовые значения с плавающей запятой (float64).** 4 столбца представлены типом `float64` - это `Year of Release`, `NA sales`, `Other sales` и `Critic Score`. Для `NA sales`, `Other sales` использование типа `float64` корректно, т.к. столбцы со стоимостью содержат дробные значения. Но для `Year of Release` такой тип данных не подходит, его необходимо изменить на `int16`, такой тип данных с цменьшенной разрядностью подойдет для данных с записью года выпуска игры. Также не подходит такой тип для `Critic Score`, т.к. все значения целые, без дробной части, его также приведем к типу `int16` или `int8`.\n",
    "- **Строковые данные (object).** 7 столбцов имеют тип данных `object`:\n",
    "    - `Name`, `Platform`, `Genre`, `Rating` - содержат строковую информцию (название игры, платформа, жанр и рейтинг ESRB), тип `object` подходит.\n",
    "    - `EU sales`, `JP sales`, `User Score` - содержат стоимость и оценку пользователей в виде чисел с дробными значениями, поэтому тип `object` не корректен. Необходимо поменять тип `object` на тип `float64`, как это сделано у других столюцов с стоимостью и оценками.\n",
    "\n",
    "После анализа типов данных видно, что 5 столбцов из 11 представлены не корректно. "
   ]
  },
  {
   "cell_type": "markdown",
   "id": "774bf76e",
   "metadata": {
    "id": "774bf76e"
   },
   "source": [
    "---\n",
    "\n",
    "## 2.  Проверка ошибок в данных и их предобработка\n",
    "\n",
    "\n",
    "### 2.1. Названия, или метки, столбцов датафрейма"
   ]
  },
  {
   "cell_type": "code",
   "execution_count": 14,
   "id": "b9276a2b",
   "metadata": {
    "id": "b9276a2b"
   },
   "outputs": [
    {
     "data": {
      "text/plain": [
       "Index(['Name', 'Platform', 'Year of Release', 'Genre', 'NA sales', 'EU sales',\n",
       "       'JP sales', 'Other sales', 'Critic Score', 'User Score', 'Rating'],\n",
       "      dtype='object')"
      ]
     },
     "metadata": {},
     "output_type": "display_data"
    }
   ],
   "source": [
    "# Выведем на экран названия всех столбцов датафрейма и проверим их стиль написания\n",
    "display(games.columns)"
   ]
  },
  {
   "cell_type": "code",
   "execution_count": 15,
   "id": "d554563c",
   "metadata": {
    "id": "d554563c"
   },
   "outputs": [],
   "source": [
    "# Приведем все столбцы к стилю snake case. Названия сделаем в нижнем регистре, а вместо пробелов — подчёркивания\n",
    "games.columns = games.columns.str.replace(' ', '_').str.lower()"
   ]
  },
  {
   "cell_type": "code",
   "execution_count": 16,
   "id": "87b573dd",
   "metadata": {
    "id": "87b573dd"
   },
   "outputs": [
    {
     "data": {
      "text/plain": [
       "Index(['name', 'platform', 'year_of_release', 'genre', 'na_sales', 'eu_sales',\n",
       "       'jp_sales', 'other_sales', 'critic_score', 'user_score', 'rating'],\n",
       "      dtype='object')"
      ]
     },
     "metadata": {},
     "output_type": "display_data"
    }
   ],
   "source": [
    "# Выведем названия столбцов датафрейма после внесенных изменений\n",
    "display(games.columns)  "
   ]
  },
  {
   "cell_type": "markdown",
   "id": "41bc6bf8",
   "metadata": {
    "id": "41bc6bf8"
   },
   "source": [
    "### 2.2. Типы данных"
   ]
  },
  {
   "cell_type": "markdown",
   "id": "cb758334-1a06-4588-b03f-7851798f067b",
   "metadata": {
    "id": "8adaac81"
   },
   "source": [
    "На этапе знакомства с данными было установлено, что почти половина столбцов представленны не корректно. Столбец `year_of_release` и `critic_score` представлены в формате `float64`, возможно это произошло из-за того, что данные были изначально загружены типом `float64` или возможно в данных были допущены ошибки, вместо года и оценки внесены числа с типом `float64` и pandas автоматически сделал все значения столбца типом `float64` или из-за пропущенных значений, т.к `int64` не поддерживает пропущенные значения, то pandas перевел все значения в `float64`. Судя по первым 5 строкам датафрейма, столбец `user_score` содержит значения `NaN`, а также есть пропущенные значения, из-за чего pandas мог интерпретировать весь столбец как тип `object`, столбцы с продажами `eu_sales` и `jp_sales` могут также из-за этого иметь тип `object`, а могут из-за неверно внесенных данных. Возможно вместо разделителя использовали не точку, а запятую или лишние пробелы или есть текст например `56.6 млн` \n",
    "\n",
    "В столбцах `year_of_release` и `critic_score` тип данных изменим после того как разберемся с пропусками."
   ]
  },
  {
   "cell_type": "code",
   "execution_count": 19,
   "id": "7616b04e-57d9-485e-8fa9-597d80cec54a",
   "metadata": {
    "scrolled": true
   },
   "outputs": [
    {
     "data": {
      "text/plain": [
       "name                object\n",
       "platform            object\n",
       "year_of_release    float64\n",
       "genre               object\n",
       "na_sales           float64\n",
       "eu_sales           float32\n",
       "jp_sales           float32\n",
       "other_sales        float64\n",
       "critic_score       float64\n",
       "user_score         float32\n",
       "rating              object\n",
       "dtype: object"
      ]
     },
     "execution_count": 19,
     "metadata": {},
     "output_type": "execute_result"
    }
   ],
   "source": [
    "# Преобразовываем тип данных с понижением разрядности\n",
    "for column in ['eu_sales', 'jp_sales', 'user_score']:\n",
    "    games[column] = pd.to_numeric(games[column], errors='coerce', downcast='float')\n",
    "games.dtypes"
   ]
  },
  {
   "cell_type": "markdown",
   "id": "b39893cb",
   "metadata": {
    "id": "b39893cb"
   },
   "source": [
    "### 2.3. Наличие пропусков в данных"
   ]
  },
  {
   "cell_type": "code",
   "execution_count": 21,
   "id": "0f1c91a8",
   "metadata": {
    "id": "0f1c91a8"
   },
   "outputs": [
    {
     "data": {
      "text/plain": [
       "name                  2\n",
       "platform              0\n",
       "year_of_release     275\n",
       "genre                 2\n",
       "na_sales              0\n",
       "eu_sales              6\n",
       "jp_sales              4\n",
       "other_sales           0\n",
       "critic_score       8714\n",
       "user_score         9268\n",
       "rating             6871\n",
       "dtype: int64"
      ]
     },
     "execution_count": 21,
     "metadata": {},
     "output_type": "execute_result"
    }
   ],
   "source": [
    "# Выводим количество пропущенных строк в датафрейме\n",
    "games.isna().sum()"
   ]
  },
  {
   "cell_type": "code",
   "execution_count": 22,
   "id": "86cd1cc1",
   "metadata": {
    "id": "86cd1cc1"
   },
   "outputs": [
    {
     "data": {
      "text/plain": [
       "name               0.000118\n",
       "platform           0.000000\n",
       "year_of_release    0.016218\n",
       "genre              0.000118\n",
       "na_sales           0.000000\n",
       "eu_sales           0.000354\n",
       "jp_sales           0.000236\n",
       "other_sales        0.000000\n",
       "critic_score       0.513918\n",
       "user_score         0.546591\n",
       "rating             0.405225\n",
       "dtype: float64"
      ]
     },
     "execution_count": 22,
     "metadata": {},
     "output_type": "execute_result"
    }
   ],
   "source": [
    "# Подсчитываем процент строк с пропусками\n",
    "games.isna().sum() /len(games)"
   ]
  },
  {
   "cell_type": "markdown",
   "id": "9032c26a-d0fd-4e17-a606-87ac0a6aa829",
   "metadata": {
    "id": "bd69e642"
   },
   "source": [
    "В данных наблюдаются пропуски в следующих столбцах:\n",
    " - `name` - в столбце с названием игры есть 2 пропуска, это 1 сотая процента от всего объема. Эти строки можно удалить, они не повляиют на дальнейший анализ.\n",
    " - `year_of_release` - в столбце с годом выпуска игры было 275 пропусков, 17 мы заполнили годом из названия игры, оставшиеся 258 составляют 1.5 процента. Возможно в источниках данных не было информации о дате выпуска игры.\n",
    " - `genre` - в столбце с жанром игры 2 пропуска, пропуски скорее всего связаны с пропусками в столбце `name`, где также 2 проупуска. Как и пропуски в стобце `name` их также можно удалить без существенного влияния на анализ.\n",
    " - `eu_sales` - в  столбце с продажами в Европе 6 пропусков, что составляет 3 сотых процента. Возможно эти игры не продавались в Европе или просто в источнике не было информации о продажах.\n",
    " - `jp_sales` - в  столбце с продажами в Европе 4 пропуска, что составляет 2 сотых процента. По аналогии с европейскими продажами, возможно эти игры не продавали в Японии или не было данных о продажах в источнике. \n",
    " - `critic_score` - в столбце с оценками критиков 8714 пропусков, что составляет 51 процент. Не все выпущенные игры оцениваются критиками, скорее всего это причина отсутствия данных. Т.к. это довольно существенный процент пропусков, то мы заменим пропуски на число индикатор, чтобы в дальнейшем отнести все игры с пропусками в отдельную категорию.\n",
    " - `user_score` - в столбце с оценками игроков 9268 пропусков, что составляет почти 55 процентов. Не все выпущенные игры имеют пользовательскую оценку, но обычно чаще есть пользовательская оценка и нет оценки критиков, в данном случае доля пропусков в оценке игроков больше чем в оценке критиков, возможно в источнике или источниках не было информации об оценках. Как и в случае с `critic_score`, мы заменим все пропуски на индикатор, чтобы отнести в отдельную категорию.  \n",
    " - `rating` - в столбце с рейтингом ESRB 6871 пропуск, что составляет 40 процентов. Данный рейтинг может отсутствовать для игр, которые не прошли сертификацию, некоторые инди-игры могут не иметь рейтинга, в некоторых регионах рейтинг не нужен. Все это, а также отсутствие данных в источнике могут быть причиной большого количества пропусков. Т.к. рейтинг для дальнейшемго анализа нам не нужен, мы оставим пропуски без изменений."
   ]
  },
  {
   "cell_type": "code",
   "execution_count": 24,
   "id": "591524ec-f251-4e3b-9b90-e2c9df1a4aa9",
   "metadata": {},
   "outputs": [],
   "source": [
    "# Извлечем год (если он есть) из названия игры и добавим его в новый столбец \n",
    "games['extracted_year'] = games['name'].str.extract(r\"(20\\d\\d)\")\n",
    "\n",
    "# Заполним пропуски в 'year_of_release' значениями из 'extracted_year'\n",
    "games['year_of_release'] = games['year_of_release'].fillna(games['extracted_year'])\n",
    "\n",
    "# Удалим временный столбец 'extracted_year'\n",
    "games = games.drop(columns=['extracted_year'])"
   ]
  },
  {
   "cell_type": "code",
   "execution_count": 25,
   "id": "154be65d",
   "metadata": {
    "id": "154be65d"
   },
   "outputs": [],
   "source": [
    "# Заполним пропуски и вместо пропуска впишем 0\n",
    "games['year_of_release'] = games['year_of_release'].fillna(0)\n",
    "\n",
    "# Изменим тип данных с float на int\n",
    "games['year_of_release'] = pd.to_numeric(games['year_of_release'], downcast='integer')"
   ]
  },
  {
   "cell_type": "code",
   "execution_count": 26,
   "id": "3f42817b",
   "metadata": {
    "id": "3f42817b"
   },
   "outputs": [],
   "source": [
    "# Удалим проупски в столбце name и genre\n",
    "games = games.dropna(subset=['name'])\n",
    "\n",
    "games = games.dropna(subset=['genre'])"
   ]
  },
  {
   "cell_type": "code",
   "execution_count": 27,
   "id": "2784c760",
   "metadata": {
    "id": "2784c760"
   },
   "outputs": [],
   "source": [
    "# Заменим пропуски в столбцах critic_score и user_score на индикатор -1\n",
    "games['critic_score'] = games['critic_score'].fillna(-1)\n",
    "\n",
    "games['user_score'] = games['user_score'].fillna(-1)\n",
    "\n",
    "# Изменим тип данных с float на int\n",
    "games['critic_score'] = pd.to_numeric(games['critic_score'], downcast='integer')"
   ]
  },
  {
   "cell_type": "code",
   "execution_count": 28,
   "id": "ee011e90-be78-4621-b082-8c1d8bde63b9",
   "metadata": {},
   "outputs": [],
   "source": [
    "# Заменим пропуски на средние значения по группам для eu_sales и jp_sales\n",
    "\n",
    "games['jp_sales'] = games['jp_sales'].fillna(games.groupby(['platform', 'year_of_release'])['jp_sales'].transform('mean'))\n",
    "\n",
    "games['eu_sales'] = games['eu_sales'].fillna(games.groupby(['platform', 'year_of_release'])['eu_sales'].transform('mean'))"
   ]
  },
  {
   "cell_type": "code",
   "execution_count": 30,
   "id": "b7cb444e-c563-4398-b43e-cfbaec8c921b",
   "metadata": {},
   "outputs": [
    {
     "data": {
      "text/plain": [
       "name                  0\n",
       "platform              0\n",
       "year_of_release       0\n",
       "genre                 0\n",
       "na_sales              0\n",
       "eu_sales              0\n",
       "jp_sales              0\n",
       "other_sales           0\n",
       "critic_score          0\n",
       "user_score            0\n",
       "rating             6869\n",
       "dtype: int64"
      ]
     },
     "execution_count": 30,
     "metadata": {},
     "output_type": "execute_result"
    }
   ],
   "source": [
    "# Выводим количество пропущенных строк в датафрейме после внесенных изменений\n",
    "games.isna().sum()"
   ]
  },
  {
   "cell_type": "code",
   "execution_count": 31,
   "id": "55ae2033-aed6-495c-a1ce-9f349557f1ed",
   "metadata": {},
   "outputs": [
    {
     "data": {
      "text/plain": [
       "name                object\n",
       "platform            object\n",
       "year_of_release      int16\n",
       "genre               object\n",
       "na_sales           float64\n",
       "eu_sales           float32\n",
       "jp_sales           float32\n",
       "other_sales        float64\n",
       "critic_score          int8\n",
       "user_score         float32\n",
       "rating              object\n",
       "dtype: object"
      ]
     },
     "execution_count": 31,
     "metadata": {},
     "output_type": "execute_result"
    }
   ],
   "source": [
    "# Выводим информацию о типе данных после внесенных изменений\n",
    "games.dtypes"
   ]
  },
  {
   "cell_type": "markdown",
   "id": "a63363fd",
   "metadata": {
    "id": "a63363fd"
   },
   "source": [
    "### 2.4. Явные и неявные дубликаты в данных"
   ]
  },
  {
   "cell_type": "code",
   "execution_count": 34,
   "id": "491c9c39",
   "metadata": {
    "id": "491c9c39"
   },
   "outputs": [
    {
     "data": {
      "text/plain": [
       "array(['Sports', 'Platform', 'Racing', 'Role-Playing', 'Puzzle', 'Misc',\n",
       "       'Shooter', 'Simulation', 'Action', 'Fighting', 'Adventure',\n",
       "       'Strategy', 'MISC', 'ROLE-PLAYING', 'RACING', 'ACTION', 'SHOOTER',\n",
       "       'FIGHTING', 'SPORTS', 'PLATFORM', 'ADVENTURE', 'SIMULATION',\n",
       "       'PUZZLE', 'STRATEGY'], dtype=object)"
      ]
     },
     "metadata": {},
     "output_type": "display_data"
    },
    {
     "data": {
      "text/plain": [
       "array(['Wii', 'NES', 'GB', 'DS', 'X360', 'PS3', 'PS2', 'SNES', 'GBA',\n",
       "       'PS4', '3DS', 'N64', 'PS', 'XB', 'PC', '2600', 'PSP', 'XOne',\n",
       "       'WiiU', 'GC', 'GEN', 'DC', 'PSV', 'SAT', 'SCD', 'WS', 'NG', 'TG16',\n",
       "       '3DO', 'GG', 'PCFX'], dtype=object)"
      ]
     },
     "metadata": {},
     "output_type": "display_data"
    },
    {
     "data": {
      "text/plain": [
       "array(['E', nan, 'M', 'T', 'E10+', 'K-A', 'AO', 'EC', 'RP'], dtype=object)"
      ]
     },
     "metadata": {},
     "output_type": "display_data"
    },
    {
     "data": {
      "text/plain": [
       "array([2006, 1985, 2008, 2009, 1996, 1989, 1984, 2005, 1999, 2007, 2010,\n",
       "       2013, 2004, 1990, 1988, 2002, 2001, 2011, 1998, 2015, 2012, 2014,\n",
       "       1992, 1997, 1993, 1994, 1982, 2016, 2003, 1986, 2000, 1995, 1991,\n",
       "       1981, 1987, 1980, 1983,    0], dtype=int16)"
      ]
     },
     "metadata": {},
     "output_type": "display_data"
    }
   ],
   "source": [
    "# Применяем метод unique() к столбцам genre, platform, rating и year_of_release для выявления неявных дубликатов\n",
    "display(games['genre'].unique())\n",
    "\n",
    "display(games['platform'].unique())\n",
    "\n",
    "display(games['rating'].unique())\n",
    "\n",
    "display(games['year_of_release'].unique())"
   ]
  },
  {
   "cell_type": "code",
   "execution_count": 36,
   "id": "f1627198",
   "metadata": {
    "id": "f1627198"
   },
   "outputs": [
    {
     "data": {
      "text/plain": [
       "array(['sports', 'platform', 'racing', 'role-playing', 'puzzle', 'misc',\n",
       "       'shooter', 'simulation', 'action', 'fighting', 'adventure',\n",
       "       'strategy'], dtype=object)"
      ]
     },
     "metadata": {},
     "output_type": "display_data"
    }
   ],
   "source": [
    "# Приведем названия жанров игр к нижнему регистру, чтобы избавиться от неявных дубликатов\n",
    "games['genre'] = games['genre'].str.lower()\n",
    "\n",
    "display(games['genre'].unique())"
   ]
  },
  {
   "cell_type": "code",
   "execution_count": 37,
   "id": "fc5c91b5",
   "metadata": {
    "id": "fc5c91b5"
   },
   "outputs": [
    {
     "data": {
      "text/plain": [
       "241"
      ]
     },
     "execution_count": 37,
     "metadata": {},
     "output_type": "execute_result"
    }
   ],
   "source": [
    "# Проверяем наличие явных дубликатов\n",
    "\n",
    "games.duplicated().sum()"
   ]
  },
  {
   "cell_type": "code",
   "execution_count": 38,
   "id": "2f61e076",
   "metadata": {
    "id": "2f61e076"
   },
   "outputs": [],
   "source": [
    "# Удаляем дубликаты\n",
    "\n",
    "games = games.drop_duplicates()"
   ]
  },
  {
   "cell_type": "code",
   "execution_count": 39,
   "id": "29e57705",
   "metadata": {
    "id": "29e57705"
   },
   "outputs": [
    {
     "data": {
      "text/plain": [
       "0"
      ]
     },
     "execution_count": 39,
     "metadata": {},
     "output_type": "execute_result"
    }
   ],
   "source": [
    "# Проверяем результат\n",
    "\n",
    "games.duplicated().sum()"
   ]
  },
  {
   "cell_type": "code",
   "execution_count": 40,
   "id": "3be117ca-f4cd-4dea-bfd9-bef1d49b0563",
   "metadata": {},
   "outputs": [
    {
     "data": {
      "text/plain": [
       "1"
      ]
     },
     "execution_count": 40,
     "metadata": {},
     "output_type": "execute_result"
    }
   ],
   "source": [
    "# Дополнительно проверим наличие дубликатов по столбцам 'name', 'platform', 'year_of_release'\n",
    "games.duplicated(subset=['name', 'platform', 'year_of_release']).sum()"
   ]
  },
  {
   "cell_type": "code",
   "execution_count": 42,
   "id": "4f4aaa2f-6f0e-4022-9151-0f12b00674fa",
   "metadata": {},
   "outputs": [
    {
     "data": {
      "text/html": [
       "<div>\n",
       "<style scoped>\n",
       "    .dataframe tbody tr th:only-of-type {\n",
       "        vertical-align: middle;\n",
       "    }\n",
       "\n",
       "    .dataframe tbody tr th {\n",
       "        vertical-align: top;\n",
       "    }\n",
       "\n",
       "    .dataframe thead th {\n",
       "        text-align: right;\n",
       "    }\n",
       "</style>\n",
       "<table border=\"1\" class=\"dataframe\">\n",
       "  <thead>\n",
       "    <tr style=\"text-align: right;\">\n",
       "      <th></th>\n",
       "      <th>name</th>\n",
       "      <th>platform</th>\n",
       "      <th>year_of_release</th>\n",
       "      <th>genre</th>\n",
       "      <th>na_sales</th>\n",
       "      <th>eu_sales</th>\n",
       "      <th>jp_sales</th>\n",
       "      <th>other_sales</th>\n",
       "      <th>critic_score</th>\n",
       "      <th>user_score</th>\n",
       "      <th>rating</th>\n",
       "    </tr>\n",
       "  </thead>\n",
       "  <tbody>\n",
       "    <tr>\n",
       "      <th>606</th>\n",
       "      <td>Madden NFL 13</td>\n",
       "      <td>PS3</td>\n",
       "      <td>2012</td>\n",
       "      <td>sports</td>\n",
       "      <td>2.11</td>\n",
       "      <td>0.22</td>\n",
       "      <td>0.0</td>\n",
       "      <td>0.23</td>\n",
       "      <td>83</td>\n",
       "      <td>5.5</td>\n",
       "      <td>E</td>\n",
       "    </tr>\n",
       "    <tr>\n",
       "      <th>16465</th>\n",
       "      <td>Madden NFL 13</td>\n",
       "      <td>PS3</td>\n",
       "      <td>2012</td>\n",
       "      <td>sports</td>\n",
       "      <td>0.00</td>\n",
       "      <td>0.01</td>\n",
       "      <td>0.0</td>\n",
       "      <td>0.00</td>\n",
       "      <td>83</td>\n",
       "      <td>5.5</td>\n",
       "      <td>E</td>\n",
       "    </tr>\n",
       "  </tbody>\n",
       "</table>\n",
       "</div>"
      ],
      "text/plain": [
       "                name platform  year_of_release   genre  na_sales  eu_sales  \\\n",
       "606    Madden NFL 13      PS3             2012  sports      2.11      0.22   \n",
       "16465  Madden NFL 13      PS3             2012  sports      0.00      0.01   \n",
       "\n",
       "       jp_sales  other_sales  critic_score  user_score rating  \n",
       "606         0.0         0.23            83         5.5      E  \n",
       "16465       0.0         0.00            83         5.5      E  "
      ]
     },
     "metadata": {},
     "output_type": "display_data"
    }
   ],
   "source": [
    "# Найдите дублирующиеся строки по столбцам 'name', 'platform', 'year_of_release'\n",
    "duplicates = games[games.duplicated(subset=['name', 'platform', 'year_of_release'], keep=False)]\n",
    "\n",
    "# Выводим строки с дубликатами\n",
    "display(duplicates)"
   ]
  },
  {
   "cell_type": "code",
   "execution_count": 43,
   "id": "304bfd6e-4a6c-4076-8e76-a7545e31ecd0",
   "metadata": {},
   "outputs": [
    {
     "data": {
      "text/html": [
       "<div>\n",
       "<style scoped>\n",
       "    .dataframe tbody tr th:only-of-type {\n",
       "        vertical-align: middle;\n",
       "    }\n",
       "\n",
       "    .dataframe tbody tr th {\n",
       "        vertical-align: top;\n",
       "    }\n",
       "\n",
       "    .dataframe thead th {\n",
       "        text-align: right;\n",
       "    }\n",
       "</style>\n",
       "<table border=\"1\" class=\"dataframe\">\n",
       "  <thead>\n",
       "    <tr style=\"text-align: right;\">\n",
       "      <th></th>\n",
       "      <th>name</th>\n",
       "      <th>platform</th>\n",
       "      <th>year_of_release</th>\n",
       "      <th>genre</th>\n",
       "      <th>na_sales</th>\n",
       "      <th>eu_sales</th>\n",
       "      <th>jp_sales</th>\n",
       "      <th>other_sales</th>\n",
       "      <th>critic_score</th>\n",
       "      <th>user_score</th>\n",
       "      <th>rating</th>\n",
       "      <th>total_sales</th>\n",
       "    </tr>\n",
       "  </thead>\n",
       "  <tbody>\n",
       "    <tr>\n",
       "      <th>606</th>\n",
       "      <td>Madden NFL 13</td>\n",
       "      <td>PS3</td>\n",
       "      <td>2012</td>\n",
       "      <td>sports</td>\n",
       "      <td>2.11</td>\n",
       "      <td>0.22</td>\n",
       "      <td>0.0</td>\n",
       "      <td>0.23</td>\n",
       "      <td>83</td>\n",
       "      <td>5.5</td>\n",
       "      <td>E</td>\n",
       "      <td>2.33</td>\n",
       "    </tr>\n",
       "  </tbody>\n",
       "</table>\n",
       "</div>"
      ],
      "text/plain": [
       "              name platform  year_of_release   genre  na_sales  eu_sales  \\\n",
       "606  Madden NFL 13      PS3             2012  sports      2.11      0.22   \n",
       "\n",
       "     jp_sales  other_sales  critic_score  user_score rating  total_sales  \n",
       "606       0.0         0.23            83         5.5      E         2.33  "
      ]
     },
     "metadata": {},
     "output_type": "display_data"
    }
   ],
   "source": [
    "# Создаем столбец с общей суммой продаж\n",
    "games['total_sales'] = games[['na_sales', 'eu_sales', 'jp_sales']].sum(axis=1)\n",
    "\n",
    "# Сортируем данные по 'total_sales' в порядке убывания\n",
    "games = games.sort_values(by='total_sales', ascending=False)\n",
    "\n",
    "# Удаляем дубликаты, оставляя строку с наибольшими продажами\n",
    "games = games.drop_duplicates(subset=['name', 'platform', 'year_of_release'], keep='first')\n",
    "\n",
    "# Проверяем результат\n",
    "display(games[(games['name'] == 'Madden NFL 13') & (games['platform'] == 'PS3')])"
   ]
  },
  {
   "cell_type": "markdown",
   "id": "3164008b-03d4-4f4e-bb00-7c9ffa891437",
   "metadata": {
    "id": "8548f894"
   },
   "source": [
    "В столбцах `genre` были обнаружены неявные дубликаты из-за различного написания одних и тех же жанров игр, мы провели нормализацию этого среза данных и оставили единиый метод написания жанра, тем самым избавились от дубликатов. При проверке по столбцам `name`, `platform`, `year_of_release` были также обнаружены неявные дубликаты, две строки одной и той же игры. Мы оставили ту, где была информация о продажах, другую удалили. Также были обнаружены 241 явный дубликат, мы удалили эти данные."
   ]
  },
  {
   "cell_type": "markdown",
   "id": "72645ae9",
   "metadata": {
    "id": "72645ae9"
   },
   "source": [
    "Посчитаем количество удалённых строк в абсолютном и относительном значениях."
   ]
  },
  {
   "cell_type": "markdown",
   "id": "78efc121-e866-4f14-947b-b3d7c290c484",
   "metadata": {
    "id": "f9d8ee19"
   },
   "source": [
    "Датасет new_games.csv изначально содержал 16956 строк"
   ]
  },
  {
   "cell_type": "code",
   "execution_count": 47,
   "id": "6b12f66f-7cb4-460c-b7a2-4ee6e35569e0",
   "metadata": {},
   "outputs": [
    {
     "data": {
      "text/plain": [
       "16712"
      ]
     },
     "execution_count": 47,
     "metadata": {},
     "output_type": "execute_result"
    }
   ],
   "source": [
    "# Найдем количество строк после удаления\n",
    "games.shape[0]"
   ]
  },
  {
   "cell_type": "code",
   "execution_count": 48,
   "id": "3d7a9d8e",
   "metadata": {
    "id": "3d7a9d8e"
   },
   "outputs": [
    {
     "data": {
      "text/plain": [
       "'Количество удаленных строк: 244'"
      ]
     },
     "metadata": {},
     "output_type": "display_data"
    }
   ],
   "source": [
    "# Запишем количество строк до удаления в переменную initial_row_count\n",
    "initial_row_count = 16956\n",
    "\n",
    "# Запишем количество строк после удаления в переменную final_row_count\n",
    "final_row_count  = 16712\n",
    "\n",
    "# Считаем удаленные строки\n",
    "rows_removed = initial_row_count - final_row_count\n",
    "\n",
    "# Выведем результат\n",
    "display(f\"Количество удаленных строк: {rows_removed}\")"
   ]
  },
  {
   "cell_type": "code",
   "execution_count": 49,
   "id": "1e48a7ce",
   "metadata": {
    "id": "1e48a7ce"
   },
   "outputs": [
    {
     "name": "stdout",
     "output_type": "stream",
     "text": [
      "Процент удаленных строк: 1.44%\n"
     ]
    }
   ],
   "source": [
    "# Подсчитываем процент удаленных строк\n",
    "rows_removed_per = (rows_removed / initial_row_count) * 100\n",
    "\n",
    "print(f\"Процент удаленных строк: {round(rows_removed_per, 2)}%\")"
   ]
  },
  {
   "cell_type": "markdown",
   "id": "5a470d8d-7582-45f8-9160-d54731a167b0",
   "metadata": {
    "id": "5166fdf8"
   },
   "source": [
    "Для дальнейшего анализа мы провели работу по предобработке данных:\n",
    "- проверили названия столбцов датафрейма и привели их к единому стилю\n",
    "- проверили тип данных столбцов и привели их к нужному типу:\n",
    "   - столбец `year_of_release` и `Critic Score` из типа `float64` к типу `int16` и `int8` соответственно\n",
    "   - столбцы `user_score`, `eu_sales` и `jp_sales` из типа `object`к типу `float64`\n",
    "- проверили наличие пропусков в столюцах и исправили их:\n",
    "   - в столбце `year_of_release` часть пропусков заменили на данные, взятые из названия игры, другую часть удалили\n",
    "   - в столбцах `genre` и `name` удалили пропуски\n",
    "   - в столбцах `eu_sales` и `jp_sales` заменили пропуски на среднее по продажам игр с такими же платформами и годом выпуска\n",
    "   - в столбцах `critic_score` и `user_score` заменили пропуски на значение индикатор `-1`\n",
    "   - в столюце `rating` оставили пропуски без изменений\n",
    "- проверили данные на наличие явных и неявных дубликатов и удалили их "
   ]
  },
  {
   "cell_type": "markdown",
   "id": "613f0eb0",
   "metadata": {
    "id": "613f0eb0"
   },
   "source": [
    "---\n",
    "\n",
    "## 3. Фильтрация данных"
   ]
  },
  {
   "cell_type": "code",
   "execution_count": 53,
   "id": "2344916d",
   "metadata": {
    "id": "2344916d"
   },
   "outputs": [
    {
     "name": "stdout",
     "output_type": "stream",
     "text": [
      "Отфильтрованные данные:\n"
     ]
    },
    {
     "data": {
      "text/html": [
       "<div>\n",
       "<style scoped>\n",
       "    .dataframe tbody tr th:only-of-type {\n",
       "        vertical-align: middle;\n",
       "    }\n",
       "\n",
       "    .dataframe tbody tr th {\n",
       "        vertical-align: top;\n",
       "    }\n",
       "\n",
       "    .dataframe thead th {\n",
       "        text-align: right;\n",
       "    }\n",
       "</style>\n",
       "<table border=\"1\" class=\"dataframe\">\n",
       "  <thead>\n",
       "    <tr style=\"text-align: right;\">\n",
       "      <th></th>\n",
       "      <th>name</th>\n",
       "      <th>platform</th>\n",
       "      <th>year_of_release</th>\n",
       "      <th>genre</th>\n",
       "      <th>na_sales</th>\n",
       "      <th>eu_sales</th>\n",
       "      <th>jp_sales</th>\n",
       "      <th>other_sales</th>\n",
       "      <th>critic_score</th>\n",
       "      <th>user_score</th>\n",
       "      <th>rating</th>\n",
       "      <th>total_sales</th>\n",
       "    </tr>\n",
       "  </thead>\n",
       "  <tbody>\n",
       "    <tr>\n",
       "      <th>0</th>\n",
       "      <td>Wii Sports</td>\n",
       "      <td>Wii</td>\n",
       "      <td>2006</td>\n",
       "      <td>sports</td>\n",
       "      <td>41.36</td>\n",
       "      <td>28.959999</td>\n",
       "      <td>3.77</td>\n",
       "      <td>8.45</td>\n",
       "      <td>76</td>\n",
       "      <td>8.0</td>\n",
       "      <td>E</td>\n",
       "      <td>74.089999</td>\n",
       "    </tr>\n",
       "    <tr>\n",
       "      <th>2</th>\n",
       "      <td>Mario Kart Wii</td>\n",
       "      <td>Wii</td>\n",
       "      <td>2008</td>\n",
       "      <td>racing</td>\n",
       "      <td>15.68</td>\n",
       "      <td>12.760000</td>\n",
       "      <td>3.79</td>\n",
       "      <td>3.29</td>\n",
       "      <td>82</td>\n",
       "      <td>8.3</td>\n",
       "      <td>E</td>\n",
       "      <td>32.230000</td>\n",
       "    </tr>\n",
       "    <tr>\n",
       "      <th>3</th>\n",
       "      <td>Wii Sports Resort</td>\n",
       "      <td>Wii</td>\n",
       "      <td>2009</td>\n",
       "      <td>sports</td>\n",
       "      <td>15.61</td>\n",
       "      <td>10.930000</td>\n",
       "      <td>3.28</td>\n",
       "      <td>2.95</td>\n",
       "      <td>80</td>\n",
       "      <td>8.0</td>\n",
       "      <td>E</td>\n",
       "      <td>29.820000</td>\n",
       "    </tr>\n",
       "    <tr>\n",
       "      <th>6</th>\n",
       "      <td>New Super Mario Bros.</td>\n",
       "      <td>DS</td>\n",
       "      <td>2006</td>\n",
       "      <td>platform</td>\n",
       "      <td>11.28</td>\n",
       "      <td>9.140000</td>\n",
       "      <td>6.50</td>\n",
       "      <td>2.88</td>\n",
       "      <td>89</td>\n",
       "      <td>8.5</td>\n",
       "      <td>E</td>\n",
       "      <td>26.920000</td>\n",
       "    </tr>\n",
       "    <tr>\n",
       "      <th>8</th>\n",
       "      <td>New Super Mario Bros. Wii</td>\n",
       "      <td>Wii</td>\n",
       "      <td>2009</td>\n",
       "      <td>platform</td>\n",
       "      <td>14.44</td>\n",
       "      <td>6.940000</td>\n",
       "      <td>4.70</td>\n",
       "      <td>2.24</td>\n",
       "      <td>87</td>\n",
       "      <td>8.4</td>\n",
       "      <td>E</td>\n",
       "      <td>26.080000</td>\n",
       "    </tr>\n",
       "  </tbody>\n",
       "</table>\n",
       "</div>"
      ],
      "text/plain": [
       "                        name platform  year_of_release     genre  na_sales  \\\n",
       "0                 Wii Sports      Wii             2006    sports     41.36   \n",
       "2             Mario Kart Wii      Wii             2008    racing     15.68   \n",
       "3          Wii Sports Resort      Wii             2009    sports     15.61   \n",
       "6      New Super Mario Bros.       DS             2006  platform     11.28   \n",
       "8  New Super Mario Bros. Wii      Wii             2009  platform     14.44   \n",
       "\n",
       "    eu_sales  jp_sales  other_sales  critic_score  user_score rating  \\\n",
       "0  28.959999      3.77         8.45            76         8.0      E   \n",
       "2  12.760000      3.79         3.29            82         8.3      E   \n",
       "3  10.930000      3.28         2.95            80         8.0      E   \n",
       "6   9.140000      6.50         2.88            89         8.5      E   \n",
       "8   6.940000      4.70         2.24            87         8.4      E   \n",
       "\n",
       "   total_sales  \n",
       "0    74.089999  \n",
       "2    32.230000  \n",
       "3    29.820000  \n",
       "6    26.920000  \n",
       "8    26.080000  "
      ]
     },
     "metadata": {},
     "output_type": "display_data"
    }
   ],
   "source": [
    "# Фильтруем данные по периоду с 2000 по 2013 год включительно и сохраним новый срез данных в отдельном датафрейме\n",
    "games_actual = games[(games['year_of_release'] >= 2000) & (games['year_of_release'] <= 2013)].copy()\n",
    "\n",
    "# Проверяем результат\n",
    "print(\"Отфильтрованные данные:\")\n",
    "display(games_actual.head())"
   ]
  },
  {
   "cell_type": "markdown",
   "id": "a6f10b01",
   "metadata": {
    "id": "a6f10b01"
   },
   "source": [
    "---\n",
    "\n",
    "## 4. Категоризация данных"
   ]
  },
  {
   "cell_type": "code",
   "execution_count": 56,
   "id": "3db87229",
   "metadata": {
    "id": "3db87229"
   },
   "outputs": [],
   "source": [
    "# Напишем функцию для определения категории оценок пользователей\n",
    "\n",
    "def categorize_score_user(score):\n",
    "    if score == -1:\n",
    "        return 'Оценка отсутствует'\n",
    "    elif 8 <= score <= 10:\n",
    "        return 'Высокая оценка'\n",
    "    elif 3 <= score < 8:\n",
    "        return 'Средняя оценка'\n",
    "    elif 0 <= score < 3:\n",
    "        return 'Низкая оценка'\n",
    "    else:\n",
    "        'Неизвестно'"
   ]
  },
  {
   "cell_type": "code",
   "execution_count": 58,
   "id": "9b0ca0f2",
   "metadata": {
    "id": "9b0ca0f2"
   },
   "outputs": [],
   "source": [
    "# Применяем функцию\n",
    "games_actual['user_score_category'] = games_actual['user_score'].apply(categorize_score_user)"
   ]
  },
  {
   "cell_type": "code",
   "execution_count": 59,
   "id": "35438bd6",
   "metadata": {
    "id": "35438bd6"
   },
   "outputs": [
    {
     "data": {
      "text/html": [
       "<div>\n",
       "<style scoped>\n",
       "    .dataframe tbody tr th:only-of-type {\n",
       "        vertical-align: middle;\n",
       "    }\n",
       "\n",
       "    .dataframe tbody tr th {\n",
       "        vertical-align: top;\n",
       "    }\n",
       "\n",
       "    .dataframe thead th {\n",
       "        text-align: right;\n",
       "    }\n",
       "</style>\n",
       "<table border=\"1\" class=\"dataframe\">\n",
       "  <thead>\n",
       "    <tr style=\"text-align: right;\">\n",
       "      <th></th>\n",
       "      <th>name</th>\n",
       "      <th>platform</th>\n",
       "      <th>year_of_release</th>\n",
       "      <th>genre</th>\n",
       "      <th>na_sales</th>\n",
       "      <th>eu_sales</th>\n",
       "      <th>jp_sales</th>\n",
       "      <th>other_sales</th>\n",
       "      <th>critic_score</th>\n",
       "      <th>user_score</th>\n",
       "      <th>rating</th>\n",
       "      <th>total_sales</th>\n",
       "      <th>user_score_category</th>\n",
       "    </tr>\n",
       "  </thead>\n",
       "  <tbody>\n",
       "    <tr>\n",
       "      <th>0</th>\n",
       "      <td>Wii Sports</td>\n",
       "      <td>Wii</td>\n",
       "      <td>2006</td>\n",
       "      <td>sports</td>\n",
       "      <td>41.36</td>\n",
       "      <td>28.959999</td>\n",
       "      <td>3.77</td>\n",
       "      <td>8.45</td>\n",
       "      <td>76</td>\n",
       "      <td>8.0</td>\n",
       "      <td>E</td>\n",
       "      <td>74.089999</td>\n",
       "      <td>Высокая оценка</td>\n",
       "    </tr>\n",
       "    <tr>\n",
       "      <th>2</th>\n",
       "      <td>Mario Kart Wii</td>\n",
       "      <td>Wii</td>\n",
       "      <td>2008</td>\n",
       "      <td>racing</td>\n",
       "      <td>15.68</td>\n",
       "      <td>12.760000</td>\n",
       "      <td>3.79</td>\n",
       "      <td>3.29</td>\n",
       "      <td>82</td>\n",
       "      <td>8.3</td>\n",
       "      <td>E</td>\n",
       "      <td>32.230000</td>\n",
       "      <td>Высокая оценка</td>\n",
       "    </tr>\n",
       "    <tr>\n",
       "      <th>3</th>\n",
       "      <td>Wii Sports Resort</td>\n",
       "      <td>Wii</td>\n",
       "      <td>2009</td>\n",
       "      <td>sports</td>\n",
       "      <td>15.61</td>\n",
       "      <td>10.930000</td>\n",
       "      <td>3.28</td>\n",
       "      <td>2.95</td>\n",
       "      <td>80</td>\n",
       "      <td>8.0</td>\n",
       "      <td>E</td>\n",
       "      <td>29.820000</td>\n",
       "      <td>Высокая оценка</td>\n",
       "    </tr>\n",
       "    <tr>\n",
       "      <th>6</th>\n",
       "      <td>New Super Mario Bros.</td>\n",
       "      <td>DS</td>\n",
       "      <td>2006</td>\n",
       "      <td>platform</td>\n",
       "      <td>11.28</td>\n",
       "      <td>9.140000</td>\n",
       "      <td>6.50</td>\n",
       "      <td>2.88</td>\n",
       "      <td>89</td>\n",
       "      <td>8.5</td>\n",
       "      <td>E</td>\n",
       "      <td>26.920000</td>\n",
       "      <td>Высокая оценка</td>\n",
       "    </tr>\n",
       "    <tr>\n",
       "      <th>8</th>\n",
       "      <td>New Super Mario Bros. Wii</td>\n",
       "      <td>Wii</td>\n",
       "      <td>2009</td>\n",
       "      <td>platform</td>\n",
       "      <td>14.44</td>\n",
       "      <td>6.940000</td>\n",
       "      <td>4.70</td>\n",
       "      <td>2.24</td>\n",
       "      <td>87</td>\n",
       "      <td>8.4</td>\n",
       "      <td>E</td>\n",
       "      <td>26.080000</td>\n",
       "      <td>Высокая оценка</td>\n",
       "    </tr>\n",
       "  </tbody>\n",
       "</table>\n",
       "</div>"
      ],
      "text/plain": [
       "                        name platform  year_of_release     genre  na_sales  \\\n",
       "0                 Wii Sports      Wii             2006    sports     41.36   \n",
       "2             Mario Kart Wii      Wii             2008    racing     15.68   \n",
       "3          Wii Sports Resort      Wii             2009    sports     15.61   \n",
       "6      New Super Mario Bros.       DS             2006  platform     11.28   \n",
       "8  New Super Mario Bros. Wii      Wii             2009  platform     14.44   \n",
       "\n",
       "    eu_sales  jp_sales  other_sales  critic_score  user_score rating  \\\n",
       "0  28.959999      3.77         8.45            76         8.0      E   \n",
       "2  12.760000      3.79         3.29            82         8.3      E   \n",
       "3  10.930000      3.28         2.95            80         8.0      E   \n",
       "6   9.140000      6.50         2.88            89         8.5      E   \n",
       "8   6.940000      4.70         2.24            87         8.4      E   \n",
       "\n",
       "   total_sales user_score_category  \n",
       "0    74.089999      Высокая оценка  \n",
       "2    32.230000      Высокая оценка  \n",
       "3    29.820000      Высокая оценка  \n",
       "6    26.920000      Высокая оценка  \n",
       "8    26.080000      Высокая оценка  "
      ]
     },
     "metadata": {},
     "output_type": "display_data"
    }
   ],
   "source": [
    "# Выводим результат\n",
    "display(games_actual.head())"
   ]
  },
  {
   "cell_type": "code",
   "execution_count": 60,
   "id": "e3f7acb0",
   "metadata": {
    "id": "e3f7acb0"
   },
   "outputs": [],
   "source": [
    "# Напишем функцию для определения категории оценок критиков\n",
    "\n",
    "def categorize_score_critic(score):\n",
    "    if score == -1:\n",
    "        return 'Оценка отсутствует'\n",
    "    elif 80 <= score <= 100:\n",
    "        return 'Высокая оценка'\n",
    "    elif 30 <= score < 80:\n",
    "        return 'Средняя оценка'\n",
    "    elif 0 <= score < 30:\n",
    "        return 'Низкая оценка'\n",
    "    else:\n",
    "        'Неизвестно'"
   ]
  },
  {
   "cell_type": "code",
   "execution_count": 61,
   "id": "548fde17",
   "metadata": {
    "id": "548fde17"
   },
   "outputs": [],
   "source": [
    "# Применяем функцию\n",
    "games_actual['critic_score_category'] = games_actual['critic_score'].apply(categorize_score_critic)"
   ]
  },
  {
   "cell_type": "code",
   "execution_count": 62,
   "id": "d136d06b",
   "metadata": {
    "id": "d136d06b"
   },
   "outputs": [
    {
     "data": {
      "text/html": [
       "<div>\n",
       "<style scoped>\n",
       "    .dataframe tbody tr th:only-of-type {\n",
       "        vertical-align: middle;\n",
       "    }\n",
       "\n",
       "    .dataframe tbody tr th {\n",
       "        vertical-align: top;\n",
       "    }\n",
       "\n",
       "    .dataframe thead th {\n",
       "        text-align: right;\n",
       "    }\n",
       "</style>\n",
       "<table border=\"1\" class=\"dataframe\">\n",
       "  <thead>\n",
       "    <tr style=\"text-align: right;\">\n",
       "      <th></th>\n",
       "      <th>name</th>\n",
       "      <th>platform</th>\n",
       "      <th>year_of_release</th>\n",
       "      <th>genre</th>\n",
       "      <th>na_sales</th>\n",
       "      <th>eu_sales</th>\n",
       "      <th>jp_sales</th>\n",
       "      <th>other_sales</th>\n",
       "      <th>critic_score</th>\n",
       "      <th>user_score</th>\n",
       "      <th>rating</th>\n",
       "      <th>total_sales</th>\n",
       "      <th>user_score_category</th>\n",
       "      <th>critic_score_category</th>\n",
       "    </tr>\n",
       "  </thead>\n",
       "  <tbody>\n",
       "    <tr>\n",
       "      <th>0</th>\n",
       "      <td>Wii Sports</td>\n",
       "      <td>Wii</td>\n",
       "      <td>2006</td>\n",
       "      <td>sports</td>\n",
       "      <td>41.36</td>\n",
       "      <td>28.959999</td>\n",
       "      <td>3.77</td>\n",
       "      <td>8.45</td>\n",
       "      <td>76</td>\n",
       "      <td>8.0</td>\n",
       "      <td>E</td>\n",
       "      <td>74.089999</td>\n",
       "      <td>Высокая оценка</td>\n",
       "      <td>Средняя оценка</td>\n",
       "    </tr>\n",
       "    <tr>\n",
       "      <th>2</th>\n",
       "      <td>Mario Kart Wii</td>\n",
       "      <td>Wii</td>\n",
       "      <td>2008</td>\n",
       "      <td>racing</td>\n",
       "      <td>15.68</td>\n",
       "      <td>12.760000</td>\n",
       "      <td>3.79</td>\n",
       "      <td>3.29</td>\n",
       "      <td>82</td>\n",
       "      <td>8.3</td>\n",
       "      <td>E</td>\n",
       "      <td>32.230000</td>\n",
       "      <td>Высокая оценка</td>\n",
       "      <td>Высокая оценка</td>\n",
       "    </tr>\n",
       "    <tr>\n",
       "      <th>3</th>\n",
       "      <td>Wii Sports Resort</td>\n",
       "      <td>Wii</td>\n",
       "      <td>2009</td>\n",
       "      <td>sports</td>\n",
       "      <td>15.61</td>\n",
       "      <td>10.930000</td>\n",
       "      <td>3.28</td>\n",
       "      <td>2.95</td>\n",
       "      <td>80</td>\n",
       "      <td>8.0</td>\n",
       "      <td>E</td>\n",
       "      <td>29.820000</td>\n",
       "      <td>Высокая оценка</td>\n",
       "      <td>Высокая оценка</td>\n",
       "    </tr>\n",
       "    <tr>\n",
       "      <th>6</th>\n",
       "      <td>New Super Mario Bros.</td>\n",
       "      <td>DS</td>\n",
       "      <td>2006</td>\n",
       "      <td>platform</td>\n",
       "      <td>11.28</td>\n",
       "      <td>9.140000</td>\n",
       "      <td>6.50</td>\n",
       "      <td>2.88</td>\n",
       "      <td>89</td>\n",
       "      <td>8.5</td>\n",
       "      <td>E</td>\n",
       "      <td>26.920000</td>\n",
       "      <td>Высокая оценка</td>\n",
       "      <td>Высокая оценка</td>\n",
       "    </tr>\n",
       "    <tr>\n",
       "      <th>8</th>\n",
       "      <td>New Super Mario Bros. Wii</td>\n",
       "      <td>Wii</td>\n",
       "      <td>2009</td>\n",
       "      <td>platform</td>\n",
       "      <td>14.44</td>\n",
       "      <td>6.940000</td>\n",
       "      <td>4.70</td>\n",
       "      <td>2.24</td>\n",
       "      <td>87</td>\n",
       "      <td>8.4</td>\n",
       "      <td>E</td>\n",
       "      <td>26.080000</td>\n",
       "      <td>Высокая оценка</td>\n",
       "      <td>Высокая оценка</td>\n",
       "    </tr>\n",
       "  </tbody>\n",
       "</table>\n",
       "</div>"
      ],
      "text/plain": [
       "                        name platform  year_of_release     genre  na_sales  \\\n",
       "0                 Wii Sports      Wii             2006    sports     41.36   \n",
       "2             Mario Kart Wii      Wii             2008    racing     15.68   \n",
       "3          Wii Sports Resort      Wii             2009    sports     15.61   \n",
       "6      New Super Mario Bros.       DS             2006  platform     11.28   \n",
       "8  New Super Mario Bros. Wii      Wii             2009  platform     14.44   \n",
       "\n",
       "    eu_sales  jp_sales  other_sales  critic_score  user_score rating  \\\n",
       "0  28.959999      3.77         8.45            76         8.0      E   \n",
       "2  12.760000      3.79         3.29            82         8.3      E   \n",
       "3  10.930000      3.28         2.95            80         8.0      E   \n",
       "6   9.140000      6.50         2.88            89         8.5      E   \n",
       "8   6.940000      4.70         2.24            87         8.4      E   \n",
       "\n",
       "   total_sales user_score_category critic_score_category  \n",
       "0    74.089999      Высокая оценка        Средняя оценка  \n",
       "2    32.230000      Высокая оценка        Высокая оценка  \n",
       "3    29.820000      Высокая оценка        Высокая оценка  \n",
       "6    26.920000      Высокая оценка        Высокая оценка  \n",
       "8    26.080000      Высокая оценка        Высокая оценка  "
      ]
     },
     "metadata": {},
     "output_type": "display_data"
    }
   ],
   "source": [
    "# Выводим результат\n",
    "display(games_actual.head())"
   ]
  },
  {
   "cell_type": "code",
   "execution_count": 63,
   "id": "HW0Nsp-4UMSL",
   "metadata": {
    "id": "HW0Nsp-4UMSL"
   },
   "outputs": [
    {
     "data": {
      "text/plain": [
       "user_score_category\n",
       "Оценка отсутствует    6305\n",
       "Средняя оценка        4082\n",
       "Высокая оценка        2294\n",
       "Низкая оценка          116\n",
       "Name: name, dtype: int64"
      ]
     },
     "metadata": {},
     "output_type": "display_data"
    }
   ],
   "source": [
    "# Сгруппируем данные по выделенным категориям и посчитаем количество игр в каждой категории\n",
    "\n",
    "# Сгруппируем по оценкам пользователей\n",
    "grouped_counts_users = games_actual.groupby('user_score_category')['name'].count()\n",
    "\n",
    "# Выводим результат\n",
    "display(grouped_counts_users.sort_values(ascending=False))"
   ]
  },
  {
   "cell_type": "code",
   "execution_count": 65,
   "id": "x2ne0HIpUMMD",
   "metadata": {
    "id": "x2ne0HIpUMMD"
   },
   "outputs": [
    {
     "data": {
      "text/plain": [
       "critic_score_category\n",
       "Оценка отсутствует    5617\n",
       "Средняя оценка        5427\n",
       "Высокая оценка        1698\n",
       "Низкая оценка           55\n",
       "Name: name, dtype: int64"
      ]
     },
     "metadata": {},
     "output_type": "display_data"
    }
   ],
   "source": [
    "# Сгруппируем по оценкам критиков\n",
    "grouped_counts_critics = games_actual.groupby('critic_score_category')['name'].count()\n",
    "\n",
    "# Выводим результат\n",
    "display(grouped_counts_critics.sort_values(ascending=False))"
   ]
  },
  {
   "cell_type": "code",
   "execution_count": 66,
   "id": "003caa2c",
   "metadata": {
    "id": "003caa2c"
   },
   "outputs": [
    {
     "data": {
      "text/plain": [
       "platform\n",
       "PS2     2134\n",
       "DS      2121\n",
       "Wii     1275\n",
       "PSP     1182\n",
       "X360    1123\n",
       "PS3     1086\n",
       "GBA      811\n",
       "Name: name, dtype: int64"
      ]
     },
     "metadata": {},
     "output_type": "display_data"
    }
   ],
   "source": [
    "# Выделим топ-7 платформ по количеству игр, выпущенных за весь актуальный период.\n",
    "top_platforms = games_actual.groupby('platform')['name'].count()\n",
    "\n",
    "top_platforms = top_platforms.sort_values(ascending=False).head(7)\n",
    "\n",
    "display(top_platforms)"
   ]
  },
  {
   "cell_type": "markdown",
   "id": "c0158881",
   "metadata": {
    "id": "c0158881"
   },
   "source": [
    "---\n",
    "\n",
    "## 5. Итоговый вывод"
   ]
  },
  {
   "cell_type": "markdown",
   "id": "95765acc-80dd-482f-afa1-cc3b76ee6f53",
   "metadata": {
    "id": "20175f5b"
   },
   "source": [
    "Были загружены данные датасета `/datasets/new_games.csv.`, они содержат 11 столбцов и 16956 строк. В датасете представлена информация о продажах игр, жанрах, платформах выпуска, рейтинге, а также оценках пользователей и критиков. При первичном знакомстве с данными и их предобработке получили такие результаты:\n",
    "- В восьми столбцах (`name`, `year_of_release`, `genre`, `eu_sales`, `jp_sales`, `critic_score`, `user_score` и `rating`) были обнаружены пропущенные значения.Самые большие пропуски в данных в столбцах `critic_score`, `user_score` и `rating` — более 50%.\n",
    "- Для оптимизации работы с данными, а также для дальнейшего анализа без ошибок в датафрейме были произведены следующие изменения типов данных:\n",
    "   - столбец `year_of_release` и `critic_score` из типа `float64` к типу `int16` и `int8` соответственно\n",
    "   - столбцы `user_score`, `eu_sales` и `jp_sales` из типа `object`к типу `float64`\n",
    "- В столбцах `genre`, `name`, `platform` и `year_of_release` были  обнаружены дубликаты и удалены\n",
    "- Для дополнительной работы с данными были созданы дополнительные столбцы:\n",
    "    - столбец `extracted_year` для извлечения года из названия игры для замены пропусков\n",
    "    - столбец `total_sales` с общей суммой продаж для удаления дубликаты с нехватающими данными\n",
    "    - столбцы `critic_score_category` и `user_score_category` для категоризации данных по оценкам критиков и пользователей\n",
    "- Провели категоризацию данных по оценкам критиков и пользователей и посчитали количество игр в каждой категории. У пользователей и у критиков преобладает средняя оценка игр, если не считать категорию оценка отсутствует из-за нехватки данных\n",
    "- Выделили топ-7 платформ по количеству игр, выпущенных за весь актуальный период. Больше всего выпущенных игр у Play Station 2 и Nintendo DS,  2134 и 2121 соответсвенно."
   ]
  },
  {
   "cell_type": "code",
   "execution_count": null,
   "id": "d33c72af",
   "metadata": {},
   "outputs": [],
   "source": []
  }
 ],
 "metadata": {
  "ExecuteTimeLog": [
   {
    "duration": 423,
    "start_time": "2025-03-01T09:13:33.947Z"
   },
   {
    "duration": 104,
    "start_time": "2025-03-01T09:13:34.373Z"
   },
   {
    "duration": 15,
    "start_time": "2025-03-01T09:13:34.479Z"
   },
   {
    "duration": 24,
    "start_time": "2025-03-01T09:13:34.496Z"
   },
   {
    "duration": 22,
    "start_time": "2025-03-01T09:13:34.522Z"
   },
   {
    "duration": 169,
    "start_time": "2025-03-01T09:13:34.545Z"
   },
   {
    "duration": 22,
    "start_time": "2025-03-01T09:13:34.716Z"
   },
   {
    "duration": 32,
    "start_time": "2025-03-01T09:13:34.739Z"
   },
   {
    "duration": 60,
    "start_time": "2025-03-01T09:13:34.774Z"
   },
   {
    "duration": 98,
    "start_time": "2025-03-01T09:13:34.836Z"
   },
   {
    "duration": 242,
    "start_time": "2025-03-01T09:13:34.935Z"
   },
   {
    "duration": 135,
    "start_time": "2025-03-01T09:13:35.179Z"
   },
   {
    "duration": 20,
    "start_time": "2025-03-01T09:13:35.316Z"
   },
   {
    "duration": 50,
    "start_time": "2025-03-01T09:13:35.339Z"
   },
   {
    "duration": 27,
    "start_time": "2025-03-01T09:13:35.390Z"
   },
   {
    "duration": 383,
    "start_time": "2025-03-01T09:13:35.419Z"
   },
   {
    "duration": 8,
    "start_time": "2025-03-01T09:13:35.804Z"
   },
   {
    "duration": 48,
    "start_time": "2025-03-01T09:13:35.813Z"
   },
   {
    "duration": 48,
    "start_time": "2025-03-01T09:13:35.863Z"
   },
   {
    "duration": 153,
    "start_time": "2025-03-01T09:13:35.913Z"
   },
   {
    "duration": 38,
    "start_time": "2025-03-01T09:13:36.067Z"
   },
   {
    "duration": 18,
    "start_time": "2025-03-01T09:13:36.107Z"
   },
   {
    "duration": 51,
    "start_time": "2025-03-01T09:13:36.127Z"
   },
   {
    "duration": 33,
    "start_time": "2025-03-01T09:13:36.179Z"
   },
   {
    "duration": 27,
    "start_time": "2025-03-01T09:13:36.214Z"
   },
   {
    "duration": 40,
    "start_time": "2025-03-01T09:13:36.243Z"
   },
   {
    "duration": 4,
    "start_time": "2025-03-01T09:13:36.284Z"
   },
   {
    "duration": 17,
    "start_time": "2025-03-01T09:13:36.289Z"
   },
   {
    "duration": 12,
    "start_time": "2025-03-01T09:13:36.307Z"
   },
   {
    "duration": 17,
    "start_time": "2025-03-01T09:13:36.320Z"
   },
   {
    "duration": 3,
    "start_time": "2025-03-01T09:13:36.339Z"
   },
   {
    "duration": 21,
    "start_time": "2025-03-01T09:13:36.352Z"
   },
   {
    "duration": 48,
    "start_time": "2025-03-01T09:13:36.375Z"
   },
   {
    "duration": 43,
    "start_time": "2025-03-01T09:13:36.424Z"
   },
   {
    "duration": 41,
    "start_time": "2025-03-01T09:13:36.469Z"
   },
   {
    "duration": 64,
    "start_time": "2025-03-01T09:13:36.511Z"
   },
   {
    "duration": 161,
    "start_time": "2025-03-01T09:13:36.576Z"
   },
   {
    "duration": 15,
    "start_time": "2025-03-01T09:13:36.739Z"
   },
   {
    "duration": 31,
    "start_time": "2025-03-01T09:13:36.756Z"
   }
  ],
  "colab": {
   "provenance": []
  },
  "kernelspec": {
   "display_name": "Python [conda env:base] *",
   "language": "python",
   "name": "conda-base-py"
  },
  "language_info": {
   "codemirror_mode": {
    "name": "ipython",
    "version": 3
   },
   "file_extension": ".py",
   "mimetype": "text/x-python",
   "name": "python",
   "nbconvert_exporter": "python",
   "pygments_lexer": "ipython3",
   "version": "3.12.3"
  },
  "toc": {
   "base_numbering": 1,
   "nav_menu": {},
   "number_sections": true,
   "sideBar": true,
   "skip_h1_title": true,
   "title_cell": "Table of Contents",
   "title_sidebar": "Contents",
   "toc_cell": false,
   "toc_position": {},
   "toc_section_display": true,
   "toc_window_display": false
  }
 },
 "nbformat": 4,
 "nbformat_minor": 5
}
